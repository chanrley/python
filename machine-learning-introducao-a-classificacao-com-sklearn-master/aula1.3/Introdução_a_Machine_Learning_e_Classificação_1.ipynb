{
  "nbformat": 4,
  "nbformat_minor": 0,
  "metadata": {
    "colab": {
      "name": "Introdução a Machine Learning e Classificação - 1.ipynb",
      "version": "0.3.2",
      "provenance": []
    },
    "kernelspec": {
      "name": "python3",
      "display_name": "Python 3"
    }
  },
  "cells": [
    {
      "metadata": {
        "id": "iN35zFmNyYIc",
        "colab_type": "code",
        "colab": {}
      },
      "cell_type": "code",
      "source": [
        "# features (1 sim, 0 não)\n",
        "# pelo longo?\n",
        "# perna curta?\n",
        "# faz auau?\n",
        "porco1 = [0, 1, 0]\n",
        "porco2 = [0, 1, 1]\n",
        "porco3 = [1, 1, 0]\n",
        "\n",
        "cachorro1 = [0, 1, 1]\n",
        "cachorro2 = [1, 0, 1]\n",
        "cachorro3 = [1, 1, 1]\n",
        "\n",
        "# 1 => porco, 0 => cachorro\n",
        "dados = [porco1, porco2, porco3, cachorro1, cachorro2, cachorro3]\n",
        "classes = [1,1,1,0,0,0]"
      ],
      "execution_count": 0,
      "outputs": []
    },
    {
      "metadata": {
        "id": "tcWrSPHkzaby",
        "colab_type": "code",
        "colab": {
          "base_uri": "https://localhost:8080/",
          "height": 86
        },
        "outputId": "17cd7227-3924-457c-b41a-2498a22c141e"
      },
      "cell_type": "code",
      "source": [
        "from sklearn.svm import LinearSVC\n",
        "\n",
        "model = LinearSVC()\n",
        "model.fit(dados, classes)"
      ],
      "execution_count": 7,
      "outputs": [
        {
          "output_type": "execute_result",
          "data": {
            "text/plain": [
              "LinearSVC(C=1.0, class_weight=None, dual=True, fit_intercept=True,\n",
              "     intercept_scaling=1, loss='squared_hinge', max_iter=1000,\n",
              "     multi_class='ovr', penalty='l2', random_state=None, tol=0.0001,\n",
              "     verbose=0)"
            ]
          },
          "metadata": {
            "tags": []
          },
          "execution_count": 7
        }
      ]
    },
    {
      "metadata": {
        "id": "YaUuFWOx0YZF",
        "colab_type": "code",
        "colab": {
          "base_uri": "https://localhost:8080/",
          "height": 34
        },
        "outputId": "43e963d4-9b76-40a4-9896-e513dd23fd8f"
      },
      "cell_type": "code",
      "source": [
        "animal_misterioso = [1,1,1]\n",
        "model.predict([animal_misterioso])"
      ],
      "execution_count": 9,
      "outputs": [
        {
          "output_type": "execute_result",
          "data": {
            "text/plain": [
              "array([0])"
            ]
          },
          "metadata": {
            "tags": []
          },
          "execution_count": 9
        }
      ]
    },
    {
      "metadata": {
        "id": "yJEFM8mx0jtR",
        "colab_type": "code",
        "colab": {}
      },
      "cell_type": "code",
      "source": [
        "misterio1 = [1,1,1]\n",
        "misterio2 = [1,1,0]\n",
        "misterio3 = [0,1,1]\n",
        "\n",
        "testes = [misterio1, misterio2, misterio3]\n",
        "previsoes = model.predict(testes)"
      ],
      "execution_count": 0,
      "outputs": []
    },
    {
      "metadata": {
        "id": "3xOA4L4e03GO",
        "colab_type": "code",
        "colab": {}
      },
      "cell_type": "code",
      "source": [
        "testes_classes = [0, 1, 1]"
      ],
      "execution_count": 0,
      "outputs": []
    },
    {
      "metadata": {
        "id": "cUaaDQol1b_D",
        "colab_type": "code",
        "colab": {
          "base_uri": "https://localhost:8080/",
          "height": 34
        },
        "outputId": "6b335fa6-9f1b-4e60-de6c-5dd417ff3b08"
      },
      "cell_type": "code",
      "source": [
        "corretos = (previsoes == testes_classes).sum()\n",
        "total = len(testes)\n",
        "taxa_de_acerto = corretos/total\n",
        "print(\"Taxa de acerto: \", taxa_de_acerto * 100)"
      ],
      "execution_count": 24,
      "outputs": [
        {
          "output_type": "stream",
          "text": [
            "Taxa de acerto:  66.66666666666666\n"
          ],
          "name": "stdout"
        }
      ]
    },
    {
      "metadata": {
        "id": "T6zhFhQa1c28",
        "colab_type": "code",
        "colab": {
          "base_uri": "https://localhost:8080/",
          "height": 34
        },
        "outputId": "3f8b5c7b-2d17-4233-c8de-e9cc9a3b7476"
      },
      "cell_type": "code",
      "source": [
        "from sklearn.metrics import accuracy_score\n",
        "\n",
        "taxa_de_acerto = accuracy_score(testes_classes, previsoes)\n",
        "print(\"Taxa de acerto\", taxa_de_acerto * 100)"
      ],
      "execution_count": 26,
      "outputs": [
        {
          "output_type": "stream",
          "text": [
            "Taxa de acerto 66.66666666666666\n"
          ],
          "name": "stdout"
        }
      ]
    },
    {
      "metadata": {
        "id": "Z9wOaemi2fzE",
        "colab_type": "code",
        "colab": {}
      },
      "cell_type": "code",
      "source": [
        ""
      ],
      "execution_count": 0,
      "outputs": []
    }
  ]
}